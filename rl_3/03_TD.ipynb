{
 "cells": [
  {
   "cell_type": "markdown",
   "metadata": {
    "collapsed": true,
    "pycharm": {
     "name": "#%% md\n"
    }
   },
   "source": [
    "# Temporal Difference Learning\n",
    "---\n",
    "Now that we have learned a little about Monte Carlo Methods, let's move on to Temporal Difference(TD) Learning.\n",
    "The plan for the week is to do a small lecture Tuesday to review the TD material then jump into an exercise.\n",
    "If we complete that exercise, we will do a really fun exercise using the same TD methods Thursday.\n",
    "\n",
    "Please watch the videos bellow.\n",
    "There is not a lot of material here, but it is dense.\n",
    "I recommend taking notes and reviewing the videos a few times until you have a solid understanding of the material.\n",
    "Lastly, don't be afraid to review the MC control material; it is very helpful in understanding the motivation for TD learning.\n",
    "\n",
    "[Introduction](https://www.youtube.com/watch?v=yXErXQulI_o&t=81s)\n",
    "\n",
    "[TD Control Part 1](https://www.youtube.com/watch?v=HYV0SP9wm7g)\n",
    "\n",
    "[TD Control Part 2](https://www.youtube.com/watch?v=U_CV-UC9G2c)\n",
    "\n",
    "[SARSA max (Q-Learning)](https://www.youtube.com/watch?v=4DxoYuR7aZ4)\n",
    "\n",
    "[Expected SARSA](https://www.youtube.com/watch?v=kEKupCyU0P0)\n"
   ]
  },
  {
   "cell_type": "markdown",
   "metadata": {
    "pycharm": {
     "name": "#%% md\n"
    }
   },
   "source": [
    "# Exercise\n",
    "---\n",
    "\n",
    "Now that we know a little about TD methods, let's put them into practice.\n",
    "\n",
    "Run this first cell to get all the helper functions loaded."
   ]
  },
  {
   "cell_type": "code",
   "execution_count": 1,
   "metadata": {
    "pycharm": {
     "name": "#%%\n"
    }
   },
   "outputs": [],
   "source": [
    "import unittest\n",
    "from IPython.display import Markdown, display\n",
    "import numpy as np\n",
    "import matplotlib.pyplot as plt\n",
    "\n",
    "def printmd(string):\n",
    "    display(Markdown(string))\n",
    "\n",
    "V_opt = np.zeros((4,12))\n",
    "V_opt[0:13][0] = -np.arange(3, 15)[::-1]\n",
    "V_opt[0:13][1] = -np.arange(3, 15)[::-1] + 1\n",
    "V_opt[0:13][2] = -np.arange(3, 15)[::-1] + 2\n",
    "V_opt[3][0] = -13\n",
    "\n",
    "pol_opt = np.hstack((np.ones(11), 2, 0))\n",
    "\n",
    "V_true = np.zeros((4,12))\n",
    "for i in range(3):\n",
    "    V_true[0:13][i] = -np.arange(3, 15)[::-1] - i\n",
    "V_true[1][11] = -2\n",
    "V_true[2][11] = -1\n",
    "V_true[3][0] = -17\n",
    "\n",
    "def get_long_path(V):\n",
    "    return np.array(np.hstack((V[0:13][0], V[1][0], V[1][11], V[2][0], V[2][11], V[3][0], V[3][11])))\n",
    "\n",
    "def get_optimal_path(policy):\n",
    "    return np.array(np.hstack((policy[2][:], policy[3][0])))\n",
    "\n",
    "class Tests(unittest.TestCase):\n",
    "\n",
    "    def td_prediction_check(self, V):\n",
    "        to_check = get_long_path(V)\n",
    "        soln = get_long_path(V_true)\n",
    "        np.testing.assert_array_almost_equal(soln, to_check)\n",
    "\n",
    "    def td_control_check(self, policy):\n",
    "        to_check = get_optimal_path(policy)\n",
    "        np.testing.assert_equal(pol_opt, to_check)\n",
    "\n",
    "check = Tests()\n",
    "\n",
    "def run_check(check_name, func):\n",
    "    try:\n",
    "        getattr(check, check_name)(func)\n",
    "    except check.failureException as e:\n",
    "        printmd('**<span style=\"color: red;\">PLEASE TRY AGAIN</span>**')\n",
    "        return\n",
    "    printmd('**<span style=\"color: green;\">PASSED</span>**')\n",
    "\n",
    "def plot_values(V):\n",
    "\t# reshape the state-value function\n",
    "\tV = np.reshape(V, (4,12))\n",
    "\t# plot the state-value function\n",
    "\tfig = plt.figure(figsize=(15,5))\n",
    "\tax = fig.add_subplot(111)\n",
    "\tim = ax.imshow(V, cmap='cool')\n",
    "\tfor (j,i),label in np.ndenumerate(V):\n",
    "\t    ax.text(i, j, np.round(label,3), ha='center', va='center', fontsize=14)\n",
    "\tplt.tick_params(bottom='off', left='off', labelbottom='off', labelleft='off')\n",
    "\tplt.title('State-Value Function')\n",
    "\tplt.show()"
   ]
  },
  {
   "cell_type": "markdown",
   "metadata": {
    "pycharm": {
     "name": "#%% md\n"
    }
   },
   "source": [
    "Next let's take a look at the environment.\n",
    "For this exercise we will use the cliff walking environment.\n",
    "This is an example of a grid world.\n",
    "If you want to take a look at the source code, check here [CliffWalking](https://github.com/openai/gym/blob/master/gym/envs/toy_text/cliffwalking.py)."
   ]
  },
  {
   "cell_type": "code",
   "execution_count": 2,
   "metadata": {
    "pycharm": {
     "name": "#%%\n"
    }
   },
   "outputs": [],
   "source": [
    "import sys\n",
    "import gym\n",
    "import numpy as np\n",
    "from collections import defaultdict, deque\n",
    "%matplotlib inline\n"
   ]
  },
  {
   "cell_type": "code",
   "execution_count": 3,
   "metadata": {
    "pycharm": {
     "name": "#%%\n"
    }
   },
   "outputs": [],
   "source": [
    "env = gym.make('CliffWalking-v0')"
   ]
  },
  {
   "cell_type": "markdown",
   "metadata": {},
   "source": [
    "The agent moves through a $4\\times 12$ gridworld, with states numbered as follows:\n",
    "```\n",
    "[[ 0,  1,  2,  3,  4,  5,  6,  7,  8,  9, 10, 11],\n",
    " [12, 13, 14, 15, 16, 17, 18, 19, 20, 21, 22, 23],\n",
    " [24, 25, 26, 27, 28, 29, 30, 31, 32, 33, 34, 35],\n",
    " [36, 37, 38, 39, 40, 41, 42, 43, 44, 45, 46, 47]]\n",
    "```\n",
    "At the start of any episode, state `36` is the initial state.  State `47` is the only terminal state, and the cliff corresponds to states `37` through `46`.\n",
    "\n",
    "The agent has 4 potential actions:\n",
    "```\n",
    "UP = 0\n",
    "RIGHT = 1\n",
    "DOWN = 2\n",
    "LEFT = 3\n",
    "```\n",
    "\n",
    "Thus, $\\mathcal{S}^+=\\{0, 1, \\ldots, 47\\}$, and $\\mathcal{A} =\\{0, 1, 2, 3\\}$.\n",
    "\n",
    "As with the previous gym environment, we can examine this directly."
   ]
  },
  {
   "cell_type": "code",
   "execution_count": 4,
   "metadata": {
    "pycharm": {
     "name": "#%%\n"
    }
   },
   "outputs": [
    {
     "name": "stdout",
     "output_type": "stream",
     "text": [
      "Discrete(4)\n",
      "Discrete(48)\n"
     ]
    }
   ],
   "source": [
    "print(env.action_space)\n",
    "print(env.observation_space)"
   ]
  },
  {
   "cell_type": "markdown",
   "metadata": {},
   "source": [
    "The goal of today's exercise is to find the value function and therefore the policy for the environment.\n",
    "As a quick reminder, the optimal policy is a function that maps from a given state to the best action.\n",
    "Grid worlds are a great place to start because visualizing the optimal state-value function is easy.\n",
    "In the figure below, we visualize the optimal state-value function for this environment."
   ]
  },
  {
   "cell_type": "code",
   "execution_count": 5,
   "metadata": {
    "pycharm": {
     "name": "#%%\n"
    }
   },
   "outputs": [
    {
     "data": {
      "image/png": "[encoded data removed]",
      "text/plain": [
       "<Figure size 1080x360 with 1 Axes>"
      ]
     },
     "metadata": {
      "needs_background": "light"
     },
     "output_type": "display_data"
    }
   ],
   "source": [
    "# define the optimal state-value function\n",
    "V_opt = np.zeros((4,12))\n",
    "V_opt[0:13][0] = -np.arange(3, 15)[::-1]\n",
    "V_opt[0:13][1] = -np.arange(3, 15)[::-1] + 1\n",
    "V_opt[0:13][2] = -np.arange(3, 15)[::-1] + 2\n",
    "V_opt[3][0] = -13\n",
    "\n",
    "plot_values(V_opt)"
   ]
  },
  {
   "cell_type": "markdown",
   "metadata": {},
   "source": [
    "## 1. Sarsa\n",
    "\n",
    "The first algorithm we will implement is SARSA.\n",
    "It is a fairly simple algorithm but has its tricky points.\n",
    "\n",
    "The defining trait of SARSA is that all actions are chosen with the epsilon greedy policy, and the value of all state-value pairs are estimated with the epsilon greedy policy.\n",
    "Read the pseudocode carefully, and you should be just fine.\n",
    "\n",
    "\"Well, maybe...\"\n",
    "\n",
    "\\-Less Claypool"
   ]
  },
  {
   "cell_type": "markdown",
   "metadata": {},
   "source": [
    "### SARSA Pseudocode\n",
    "---\n",
    "\n",
    "initialize epsilon\n",
    "\n",
    "for episode in num_episodes:\n",
    "\n",
    "    decay epsilon\n",
    "    state <- initial state\n",
    "    chose action from Q with epsilon greedy policy\n",
    "    t <- 0\n",
    "    repeat until terminal state:\n",
    "        take action A_t and observe R_t+1, S_t+1\n",
    "        chose action A_t+1 from Q with epsilon greedy policy\n",
    "        update Q-table\n",
    "        S <- S_t+1\n",
    "        A <- A_t+1\n",
    "---\n",
    "\n",
    "Recall that the Q-table update for SARSA is:\n",
    "$$Q(S_t, A_t) \\leftarrow Q(S_t, A_t) + \\alpha (R_{t+1} + \\gamma Q(S_{t+1}, A_{t+1}) - Q(S_t, A_t))$$"
   ]
  },
  {
   "cell_type": "code",
   "execution_count": 60,
   "metadata": {
    "pycharm": {
     "name": "#%%\n"
    }
   },
   "outputs": [],
   "source": [
    "def sarsa(env, num_episodes, alpha, gamma=1.0):\n",
    "    \"\"\"\n",
    "    SARSA Algorithm\n",
    "    :param env: open ai gym environment\n",
    "    :param num_episodes: number of episodes to run\n",
    "    :param alpha: weight for the Q-tabel running average\n",
    "    :param gamma: discount factor for future rewards\n",
    "    :return: (dict) Q-table and (list) score for each episode\n",
    "    \"\"\"\n",
    "    # useful for epsilon greedy action selection...\n",
    "    num_actions = env.action_space.n\n",
    "\n",
    "    # initialize action-value function (empty dictionary of arrays)\n",
    "    Q = defaultdict(lambda: np.zeros(env.nA))\n",
    "\n",
    "    # initialize performance monitor\n",
    "    scores = []\n",
    "\n",
    "    # epsilon decay parameters\n",
    "    eps = 1\n",
    "    eps_decay = 0.9\n",
    "    eps_end = 0.000001\n",
    "    \n",
    "\n",
    "    # loop over episodes\n",
    "    for i_episode in range(1, num_episodes+1):\n",
    "        # monitor progress\n",
    "        state = env.reset()\n",
    "        if i_episode % 100 == 0:\n",
    "            print(\"\\rEpisode {}/{}\".format(i_episode, num_episodes), end=\"\")\n",
    "            sys.stdout.flush()\n",
    "\n",
    "        # decay epsilon\n",
    "        eps = max(eps * eps_decay, eps_end)\n",
    "        \n",
    "        ## TODO: complete the function by implementing the remaining pseudocode\n",
    "        at = greedy_select(Q,state,env, eps)\n",
    "        ## HINT: env.reset() returns the initial state\n",
    "        reward = 0\n",
    "        while state!=47:\n",
    "            st1, rt1, dt1, it1 = env.step(at)\n",
    "            at1 = greedy_select(Q,state,env, eps)\n",
    "            Q[state][at] = Q[state][at]+alpha*(rt1+gamma*Q[st1][at1]-Q[state][at])\n",
    "            state = st1\n",
    "            at = at1\n",
    "            reward+=rt1\n",
    "        scores.append(reward)\n",
    "        ## HINT: env.step() takes an int (action) and returns a tuple of (next_state, reward, done, info)\n",
    "\n",
    "    return Q, scores\n",
    "def greedy_select(Q,state,env, epsillon):\n",
    "    if np.random.rand()<epsillon:\n",
    "        x = np.random.choice(np.arange(env.action_space.n))\n",
    "    else:\n",
    "        x = np.argmax(Q[state])\n",
    "    return x"
   ]
  },
  {
   "cell_type": "code",
   "execution_count": 61,
   "metadata": {},
   "outputs": [
    {
     "data": {
      "text/plain": [
       "(defaultdict(<function __main__.sarsa.<locals>.<lambda>()>,\n",
       "             {36: array([ -19.93697521, -185.50001408,  -83.21913643,  -49.46610178]),\n",
       "              24: array([-16.92973146, -41.79918284, -88.21060984, -35.97907529]),\n",
       "              12: array([-14.46104662, -19.85742069, -48.12944719, -27.39592365]),\n",
       "              0: array([-14.27101171, -14.34688678, -26.17459889, -17.17051352]),\n",
       "              1: array([-15.62184916, -15.62903749, -23.44468361, -15.78817223]),\n",
       "              13: array([-13.09663022, -11.94275524, -46.43657274, -31.94613494]),\n",
       "              2: array([-14.69276633, -15.80684209, -15.50520349, -15.71014867]),\n",
       "              14: array([-12.61682353, -10.24853019, -23.35648715, -21.33058965]),\n",
       "              25: array([ -31.88370506,  -32.05208394, -204.80242707,  -37.60365508]),\n",
       "              26: array([ -11.57250017,  -24.98599444, -158.48403589,  -24.05886377]),\n",
       "              3: array([-15.8674496 , -15.03358417, -15.64414265, -15.65138236]),\n",
       "              15: array([-10.68027914,  -9.90864346, -27.88955194, -13.53236863]),\n",
       "              27: array([ -10.41062159,  -11.64736742, -160.98762698,  -38.72349487]),\n",
       "              4: array([-12.5327143 , -12.11802336, -13.54967056, -15.70864725]),\n",
       "              5: array([ -8.72023218, -11.46356729,  -9.18765508, -12.45583034]),\n",
       "              17: array([ -8.65645337, -17.01892826, -16.07710858,  -6.77768574]),\n",
       "              6: array([-10.6034492 , -10.4166985 , -12.27058522, -10.84844784]),\n",
       "              18: array([ -9.8103195 ,  -5.10870196, -28.32864008, -18.37795466]),\n",
       "              30: array([  -3.90072094,   -6.59912993, -118.90817564,  -18.25980849]),\n",
       "              31: array([ -11.46921541,   -1.97438931, -118.46528037,   -3.78365934]),\n",
       "              28: array([  -6.94976121,   -3.98414055, -137.65718651,  -38.28162935]),\n",
       "              29: array([  -6.15133233,  -10.17939872, -109.49713011,  -18.28447634]),\n",
       "              7: array([-11.01289752, -10.8483862 , -10.84390474, -12.7565048 ]),\n",
       "              19: array([ -3.70346361, -11.83605492, -11.1369221 ,  -7.64424237]),\n",
       "              20: array([-11.78504627, -14.1497885 ,  -7.07562682,  -6.49956497]),\n",
       "              8: array([ -6.48867284, -10.4305748 , -10.87527367, -11.41673024]),\n",
       "              32: array([ -1.1279518 ,  -5.90571239, -57.7325049 , -11.07834922]),\n",
       "              9: array([ -9.8546691 , -17.12022859,  -8.98255188,  -9.59297664]),\n",
       "              21: array([-14.44490786,  -4.91611384,  -8.94702051, -13.41515073]),\n",
       "              10: array([-12.14883242, -12.13708433, -17.06424686, -16.70784765]),\n",
       "              33: array([  -3.20602092,   -9.94871656, -104.15053534,   -3.51939203]),\n",
       "              34: array([ -11.28872541,  -21.17055432, -157.7927294 ,   -0.26291576]),\n",
       "              22: array([ -8.53312065, -16.82813248, -19.33057361, -12.52248595]),\n",
       "              16: array([ -6.94130041,  -7.34138969, -26.30748955,  -9.19659996]),\n",
       "              11: array([-16.32922624, -16.31869341, -16.33234092, -16.26539508]),\n",
       "              23: array([-16.52005577,  -4.83943981, -15.35139643,  -6.2243652 ]),\n",
       "              35: array([  -2.30992936,   -3.18146034,   -0.98521912, -105.63305848]),\n",
       "              47: array([0., 0., 0., 0.])}),\n",
       " [-25774,\n",
       "  -3158,\n",
       "  -417,\n",
       "  -3256,\n",
       "  -66,\n",
       "  -289,\n",
       "  -727,\n",
       "  -250,\n",
       "  -60,\n",
       "  -29,\n",
       "  -198,\n",
       "  -197,\n",
       "  -37,\n",
       "  -159,\n",
       "  -32,\n",
       "  -194,\n",
       "  -27,\n",
       "  -56,\n",
       "  -22,\n",
       "  -27,\n",
       "  -31,\n",
       "  -38,\n",
       "  -59,\n",
       "  -22,\n",
       "  -30,\n",
       "  -235,\n",
       "  -909,\n",
       "  -29,\n",
       "  -83,\n",
       "  -803,\n",
       "  -119,\n",
       "  -185,\n",
       "  -1033,\n",
       "  -283,\n",
       "  -201,\n",
       "  -382,\n",
       "  -113,\n",
       "  -322,\n",
       "  -78,\n",
       "  -63])"
      ]
     },
     "execution_count": 61,
     "metadata": {},
     "output_type": "execute_result"
    }
   ],
   "source": [
    "sarsa(env, 40, 0.1)"
   ]
  },
  {
   "cell_type": "markdown",
   "metadata": {},
   "source": [
    "**PASSED** indicates that your Q-table is sufficiently close to the true value, well done!\n",
    "**PLEASE TRY AGAIN** indicates that you have a little more work to do.\n",
    "\n",
    "**IMPORTANT** For the tests to pass you can change num_episodes and alpha, but you must leave gamma in the default value.\n",
    "Once the tests pass, and your function is working correctly, then feel free to alter gamma."
   ]
  },
  {
   "cell_type": "code",
   "execution_count": 79,
   "metadata": {
    "pycharm": {
     "name": "#%%\n"
    }
   },
   "outputs": [
    {
     "name": "stdout",
     "output_type": "stream",
     "text": [
      "hello\n",
      "goodbye\n"
     ]
    },
    {
     "data": {
      "text/markdown": [
       "**<span style=\"color: red;\">PLEASE TRY AGAIN</span>**"
      ],
      "text/plain": [
       "<IPython.core.display.Markdown object>"
      ]
     },
     "metadata": {},
     "output_type": "display_data"
    },
    {
     "name": "stdout",
     "output_type": "stream",
     "text": [
      "\n",
      "Estimated Optimal Policy (UP = 0, RIGHT = 1, DOWN = 2, LEFT = 3, N/A = -1):\n",
      "[[ 1  0  1  0  3  1  0  3  0  3  0  3]\n",
      " [ 3  1  0  3  1  0  1  0  1  3  1  1]\n",
      " [ 0  3  0  1  0  1  0  1  3  0  3  2]\n",
      " [ 0 -1 -1 -1 -1 -1 -1 -1 -1 -1 -1  0]]\n"
     ]
    },
    {
     "data": {
      "image/png": "[encoded data removed]",
      "text/plain": [
       "<Figure size 1080x360 with 1 Axes>"
      ]
     },
     "metadata": {
      "needs_background": "light"
     },
     "output_type": "display_data"
    }
   ],
   "source": [
    "np.random.seed(2)\n",
    "# obtain the estimated optimal policy and corresponding action-value function\n",
    "print(\"hello\")\n",
    "Q_sarsa, scores_sarsa = sarsa(env, num_episodes=1000, alpha=0.01)\n",
    "print(\"goodbye\")\n",
    "# print the estimated optimal policy\n",
    "policy_sarsa = np.array([np.argmax(Q_sarsa[key]) if key in Q_sarsa else -1 for key in np.arange(48)]).reshape(4,12)\n",
    "run_check('td_control_check', policy_sarsa)\n",
    "print(\"\\nEstimated Optimal Policy (UP = 0, RIGHT = 1, DOWN = 2, LEFT = 3, N/A = -1):\")\n",
    "print(policy_sarsa)\n",
    "\n",
    "# plot the estimated optimal state-value function\n",
    "V_sarsa = ([np.max(Q_sarsa[key]) if key in Q_sarsa else 0 for key in np.arange(48)])\n",
    "plot_values(V_sarsa)"
   ]
  },
  {
   "cell_type": "markdown",
   "metadata": {},
   "source": [
    "## 2. SARSA Max a.k.a Q-learning\n",
    "\n",
    "SARSA Max is very similar to SARSA.\n",
    "The main difference comes in the update step for the Q-table.\n",
    "SARSA Max estimates the value of the next state by taking the max value over all action in that state.\n",
    "This is in contrast to SARSA, which estimated the value of the next state by choosing an action with an epsilon greedy policy and using that state-action pair to estimate the value.\n",
    "\n",
    "Put simply, SARSA Max estimates the value of the next state according to best known policy rather than estimating the value with a semi-stochastic policy.\n",
    "\n",
    "Makes you wonder why you had to implement SARSA in the first place...\n",
    "\n",
    "\"Can't be starting all these problems if you cannot solve them.\"\n",
    "\n",
    "\\-Cardi B"
   ]
  },
  {
   "cell_type": "markdown",
   "metadata": {
    "pycharm": {
     "name": "#%% md\n"
    }
   },
   "source": [
    "### SARSA Max (Q-learning) Pseudocode\n",
    "---\n",
    "\n",
    "initialize epsilon\n",
    "\n",
    "for episode in num_episodes:\n",
    "\n",
    "    decay epsilon\n",
    "    state <- initial state\n",
    "    t <- 0\n",
    "    repeat until terminal state:\n",
    "        chose action from Q epsilon greedy policy\n",
    "        take action A_t and observe R_t+1, S_t+1\n",
    "        **chose action A_t+1 from max value in Q-table for S_t+1**\n",
    "        update Q-table\n",
    "        S_t <- S_t+1\n",
    "\n",
    "---\n",
    "\n",
    "Recall that the Q-table update for SARSA Max is:\n",
    "$$Q(S_t, A_t) \\leftarrow Q(S_t, A_t) + \\alpha (R_{t+1} + \\gamma \\max_{a \\in A}Q(S_{t+1}, a) - Q(S_t, A_t))$$"
   ]
  },
  {
   "cell_type": "code",
   "execution_count": 74,
   "metadata": {
    "pycharm": {
     "name": "#%%\n"
    }
   },
   "outputs": [],
   "source": [
    "def q_learning(env, num_episodes, alpha, gamma=1.0):\n",
    "    \"\"\"\n",
    "    Q-learning Algorithm\n",
    "    :param env: open ai gym environment\n",
    "    :param num_episodes: number of episodes to run\n",
    "    :param alpha: weight for the Q-tabel running average\n",
    "    :param gamma: discount factor for future rewards\n",
    "    :return: (dict) Q-table and (list) score for each episode\n",
    "    \"\"\"\n",
    "    # useful for epsilon greedy action selection...\n",
    "    num_actions = env.action_space.n\n",
    "\n",
    "    # initialize action-value function (empty dictionary of arrays)\n",
    "    Q = defaultdict(lambda: np.zeros(env.nA))\n",
    "\n",
    "    # initialize performance monitor\n",
    "    scores = []\n",
    "\n",
    "    # epsilon decay parameters\n",
    "    eps = 1\n",
    "    eps_decay = 0.9\n",
    "    eps_end = 0.000001\n",
    "\n",
    "    # loop over episodes\n",
    "    for i_episode in range(1, num_episodes+1):\n",
    "        # monitor progress\n",
    "        state = env.reset()\n",
    "        if i_episode % 100 == 0:\n",
    "            print(\"\\rEpisode {}/{}\".format(i_episode, num_episodes), end=\"\")\n",
    "            sys.stdout.flush()\n",
    "\n",
    "        # decay epsilon\n",
    "        eps = max(eps * eps_decay, eps_end)\n",
    "\n",
    "        ## TODO: complete remaining pseudocode\n",
    "        \n",
    "        ## HINT: env.reset() returns the initial state\n",
    "        reward = 0\n",
    "        while state!=47:\n",
    "            at = greedy_select(Q,state,env, eps)\n",
    "            st1, rt1, dt1, it1 = env.step(at)\n",
    "            at1 = np.argmax(Q[st1])\n",
    "            Q[state][at] = Q[state][at]+alpha*(rt1+gamma*max(Q[st1])-Q[state][at])\n",
    "            state = st1\n",
    "            reward+=rt1\n",
    "        scores.append(reward)\n",
    "        ## HINT: env.reset() returns the initial state\n",
    "        ## HINT: env.step() takes an int (action) and returns a tuple of (next_state, reward, done, info)\n",
    "\n",
    "    return Q, scores"
   ]
  },
  {
   "cell_type": "code",
   "execution_count": 75,
   "metadata": {},
   "outputs": [
    {
     "data": {
      "text/plain": [
       "(defaultdict(<function __main__.q_learning.<locals>.<lambda>()>,\n",
       "             {36: array([  -7.432837  , -106.44112704,   -7.4709426 ,   -7.47286364]),\n",
       "              24: array([-6.57787239, -6.59362561, -7.17889989, -6.57762534]),\n",
       "              25: array([  -5.94070025,   -5.89934934, -106.11987021,   -6.12214572]),\n",
       "              12: array([-5.98983788, -5.95885647, -5.92579067, -5.92588428]),\n",
       "              13: array([-5.58744577, -5.59615326, -5.59168551, -5.55528784]),\n",
       "              1: array([-5.35959112, -5.3954865 , -5.35458944, -5.44683639]),\n",
       "              2: array([-5.09335981, -5.09734889, -5.15529608, -5.05592034]),\n",
       "              14: array([-5.20681259, -5.22085245, -5.22779638, -5.19724142]),\n",
       "              26: array([  -5.28939869,   -5.29294096, -105.80604883,   -5.43547619]),\n",
       "              3: array([-4.78757441, -4.74795542, -4.74897623, -4.86219168]),\n",
       "              4: array([-4.3711318 , -4.37263838, -4.42741208, -4.46442331]),\n",
       "              15: array([-4.76461912, -4.81343726, -4.78010829, -4.87046961]),\n",
       "              16: array([-4.36976766, -4.41420221, -4.44651492, -4.45692711]),\n",
       "              5: array([-4.07479227, -4.05144163, -4.01950802, -4.12413381]),\n",
       "              6: array([-3.69709976, -3.70670244, -3.75340409, -3.7124994 ]),\n",
       "              18: array([-3.68840969, -3.69488844, -3.69132242, -3.75126787]),\n",
       "              30: array([ -3.6725885 ,  -3.65332795, -84.03895809,  -3.73332991]),\n",
       "              31: array([ -3.19414549,  -3.24205752, -79.08581181,  -3.24311261]),\n",
       "              19: array([-3.36126669, -3.30778149, -3.26584158, -3.31827119]),\n",
       "              32: array([ -2.92576598,  -2.88939609, -68.94945184,  -2.86983758]),\n",
       "              20: array([-2.97628324, -2.92828855, -3.00670634, -2.92089292]),\n",
       "              21: array([-2.54341221, -2.56776975, -2.53285299, -2.6520904 ]),\n",
       "              9: array([-2.61376017, -2.62468468, -2.67182545, -2.58285714]),\n",
       "              8: array([-2.96550209, -2.96521989, -2.94484563, -3.00600874]),\n",
       "              22: array([-2.17763108, -2.09773302, -2.11738801, -2.23042374]),\n",
       "              10: array([-2.33758379, -2.26137722, -2.31923896, -2.37216888]),\n",
       "              33: array([ -2.41878713,  -2.43588874, -68.94270088,  -2.44625304]),\n",
       "              34: array([ -1.84343284,  -1.81119436, -64.62340955,  -1.89815845]),\n",
       "              35: array([-1.17075965, -1.02501904, -0.98521912, -0.99951709]),\n",
       "              27: array([  -4.8112154 ,   -4.83406419, -104.23459505,   -4.79988973]),\n",
       "              28: array([  -4.41662976,   -4.44055319, -101.63973311,   -4.42722401]),\n",
       "              0: array([-5.65104393, -5.68413595, -5.72251443, -5.69115292]),\n",
       "              29: array([ -4.05306498,  -4.06756174, -89.65144553,  -4.02504522]),\n",
       "              17: array([-4.10715746, -4.05567328, -4.01826237, -4.02414611]),\n",
       "              7: array([-3.37446662, -3.31353547, -3.38661028, -3.43523217]),\n",
       "              11: array([-1.94437044, -2.01346379, -1.97302892, -2.067572  ]),\n",
       "              23: array([-1.66818941, -1.75431573, -1.71172148, -1.71493837]),\n",
       "              47: array([0., 0., 0., 0.])}),\n",
       " [-31134,\n",
       "  -4176,\n",
       "  -2284,\n",
       "  -10003,\n",
       "  -447,\n",
       "  -1979,\n",
       "  -489,\n",
       "  -785,\n",
       "  -257,\n",
       "  -849,\n",
       "  -31,\n",
       "  -396,\n",
       "  -304,\n",
       "  -49,\n",
       "  -33,\n",
       "  -630,\n",
       "  -68,\n",
       "  -251,\n",
       "  -42,\n",
       "  -35,\n",
       "  -327,\n",
       "  -39,\n",
       "  -44,\n",
       "  -56,\n",
       "  -31,\n",
       "  -167,\n",
       "  -291,\n",
       "  -40,\n",
       "  -50,\n",
       "  -41,\n",
       "  -67,\n",
       "  -38,\n",
       "  -39,\n",
       "  -60,\n",
       "  -29,\n",
       "  -38,\n",
       "  -67,\n",
       "  -44,\n",
       "  -53,\n",
       "  -172])"
      ]
     },
     "execution_count": 75,
     "metadata": {},
     "output_type": "execute_result"
    }
   ],
   "source": [
    "q_learning(env, 40, 0.1)"
   ]
  },
  {
   "cell_type": "markdown",
   "metadata": {},
   "source": [
    "**PASSED** indicates that your Q-table is sufficiently close to the true value, well done!\n",
    "**PLEASE TRY AGAIN** indicates that you have a little more work to do.\n",
    "\n",
    "**IMPORTANT** For the tests to pass you can change num_episodes and alpha, but you must leave gamma in the default value.\n",
    "Once the tests pass, and your function is working correctly, then feel free to alter gamma."
   ]
  },
  {
   "cell_type": "code",
   "execution_count": 77,
   "metadata": {
    "pycharm": {
     "name": "#%%\n"
    }
   },
   "outputs": [
    {
     "name": "stdout",
     "output_type": "stream",
     "text": [
      "\r",
      "Episode 100/100"
     ]
    },
    {
     "data": {
      "text/markdown": [
       "**<span style=\"color: red;\">PLEASE TRY AGAIN</span>**"
      ],
      "text/plain": [
       "<IPython.core.display.Markdown object>"
      ]
     },
     "metadata": {},
     "output_type": "display_data"
    },
    {
     "name": "stdout",
     "output_type": "stream",
     "text": [
      "\n",
      "Estimated Optimal Policy (UP = 0, RIGHT = 1, DOWN = 2, LEFT = 3, N/A = -1):\n",
      "[[ 1  0  1  3  0  0  1  0  0  1  2  0]\n",
      " [ 0  0  2  1  0  3  2  2  3  1  1  2]\n",
      " [ 3  3  0  0  3  3  1  0  0  0  3  2]\n",
      " [ 2 -1 -1 -1 -1 -1 -1 -1 -1 -1 -1  0]]\n"
     ]
    },
    {
     "data": {
      "image/png": "[encoded data removed]",
      "text/plain": [
       "<Figure size 1080x360 with 1 Axes>"
      ]
     },
     "metadata": {
      "needs_background": "light"
     },
     "output_type": "display_data"
    }
   ],
   "source": [
    "np.random.seed(2)\n",
    "# obtain the estimated optimal policy and corresponding action-value function\n",
    "Q_sarsamax, scores_sarsamax = q_learning(env, num_episodes=100, alpha=0.01)\n",
    "\n",
    "# print the estimated optimal policy\n",
    "policy_sarsamax = np.array([np.argmax(Q_sarsamax[key]) if key in Q_sarsamax else -1 for key in np.arange(48)]).reshape((4,12))\n",
    "run_check('td_control_check', policy_sarsamax)\n",
    "print(\"\\nEstimated Optimal Policy (UP = 0, RIGHT = 1, DOWN = 2, LEFT = 3, N/A = -1):\")\n",
    "print(policy_sarsamax)\n",
    "\n",
    "# plot the estimated optimal state-value function\n",
    "plot_values([np.max(Q_sarsamax[key]) if key in Q_sarsamax else 0 for key in np.arange(48)])"
   ]
  },
  {
   "cell_type": "markdown",
   "metadata": {},
   "source": [
    "## 3. Expected SARSA\n",
    "\n",
    "Lastly we will implement Expected SARSA.\n",
    "This will hearken back to our early days of sums over probabilities.\n",
    "\n",
    "Yay....\n",
    "\n",
    "As with SARSA Max we will choose the next action using the Q-table with an epsilon greedy policy.\n",
    "But when we update Q(S_t, A_t) we will use the **expected** value of next state action pair.\n",
    "This expected value utilizes our good old friend the product rule!\n",
    "\n",
    "Yay...\n",
    "\n",
    "Where the expected value for any action is the estimated value times the probability of choosing that action according to the policy.\n",
    "\n",
    "It is otherwise very similar to SARSA Max...\n",
    "\n",
    "\"You'll never get out of this maze!\"\n",
    "\n",
    "\\-Phish"
   ]
  },
  {
   "cell_type": "markdown",
   "metadata": {
    "pycharm": {
     "name": "#%% md\n"
    }
   },
   "source": [
    "## Expected SARSA Pseudocode\n",
    "---\n",
    "\n",
    "initialize epsilon\n",
    "\n",
    "    decay epsilon\n",
    "    state <- initial state\n",
    "    t <- 0\n",
    "    repeat until terminal state:\n",
    "        chose action from Q with epsilon greedy policy\n",
    "        take action A_t and observe R_t+1, S_t+1\n",
    "        **chose action A_t+1 from max value in Q-table for S_t+1**\n",
    "        update Q-table\n",
    "        S_t <- S_t+1\n",
    "\n",
    "---\n",
    "\n",
    "Recall that the Q-table update for SARSA Max is:\n",
    "$$Q(S_t, A_t) \\leftarrow Q(S_t, A_t) + \\alpha (R_{t+1} + \\gamma \\sum_{a \\in A}\\pi(a \\vert S_{t+1})Q(S_{t+1}, a) - Q(S_t, A_t))$$\n",
    "\n",
    "$\\pi(a \\vert S_{t+1}) = \\Bigg\\{$\n",
    "$\\begin{array}{rcl}\n",
    "                            1 - \\epsilon + \\frac{\\epsilon}{\\text{num_actions}} & \\mbox{for} & \\text{arg}\\max_{a \\in A}Q(S_{t+1}, a) \\\\\n",
    "                            \\frac{\\epsilon}{\\text{num_actions}} & \\mbox{for} & \\neg{\\text{arg}\\max_{a \\in A}Q(S_{t+1}, a) }\n",
    "                            \\end{array}\n",
    "                            $\n"
   ]
  },
  {
   "cell_type": "code",
   "execution_count": null,
   "metadata": {
    "pycharm": {
     "name": "#%%\n"
    }
   },
   "outputs": [],
   "source": [
    "def expected_sarsa(env, num_episodes, alpha, gamma=1.0):\n",
    "    \"\"\"\n",
    "    Expected SARSA Algorithm\n",
    "    :param env: open ai gym environment\n",
    "    :param num_episodes: number of episodes to run\n",
    "    :param alpha: weight for the Q-tabel running average\n",
    "    :param gamma: discount factor for future rewards\n",
    "    :return: (dict) Q-table and (list) score for each episode\n",
    "    \"\"\"\n",
    "    # useful for epsilon greedy action selection...\n",
    "    num_actions = env.action_space.n\n",
    "\n",
    "    # initialize action-value function (empty dictionary of arrays)\n",
    "    Q = defaultdict(lambda: np.zeros(env.nA))\n",
    "\n",
    "    # initialize performance monitor\n",
    "    scores = []\n",
    "\n",
    "    # epsilon decay parameters\n",
    "    eps = 1\n",
    "    eps_decay = 0.9\n",
    "    eps_end = 0.000001\n",
    "    # loop over episodes\n",
    "    for i_episode in range(1, num_episodes+1):\n",
    "        # monitor progress\n",
    "        if i_episode % 100 == 0:\n",
    "            print(\"\\rEpisode {}/{}\".format(i_episode, num_episodes), end=\"\")\n",
    "            sys.stdout.flush()\n",
    "\n",
    "        # decay epsilon\n",
    "        eps = max(eps * eps_decay, eps_end)\n",
    "\n",
    "        ## TODO: complete the remaining pseudocode\n",
    "        ## HINT: env.reset() returns the initial state\n",
    "        ## HINT: env.step() takes an int (action) and returns a tuple of (next_state, reward, done, info)\n",
    "\n",
    "    return Q, scores"
   ]
  },
  {
   "cell_type": "markdown",
   "metadata": {},
   "source": [
    "**PASSED** indicates that your Q-table is sufficiently close to the true value, well done!\n",
    "**PLEASE TRY AGAIN** indicates that you have a little more work to do.\n",
    "\n",
    "**IMPORTANT** For the tests to pass you can change num_episodes and alpha, but you must leave gamma in the default value.\n",
    "Once the tests pass, and your function is working correctly, then feel free to alter gamma."
   ]
  },
  {
   "cell_type": "code",
   "execution_count": null,
   "metadata": {
    "pycharm": {
     "name": "#%%\n"
    }
   },
   "outputs": [],
   "source": [
    "# obtain the estimated optimal policy and corresponding action-value function\n",
    "Q_expsarsa, scores_exp_sarsa = expected_sarsa(env, num_episodes=10000, alpha=1)\n",
    "\n",
    "# print the estimated optimal policy\n",
    "policy_expsarsa = np.array([np.argmax(Q_expsarsa[key]) if key in Q_expsarsa else -1 for key in np.arange(48)]).reshape(4,12)\n",
    "run_check('td_control_check', policy_expsarsa)\n",
    "print(\"\\nEstimated Optimal Policy (UP = 0, RIGHT = 1, DOWN = 2, LEFT = 3, N/A = -1):\")\n",
    "print(policy_expsarsa)\n",
    "\n",
    "# plot the estimated optimal state-value function\n",
    "plot_values([np.max(Q_expsarsa[key]) if key in Q_expsarsa else 0 for key in np.arange(48)])"
   ]
  },
  {
   "cell_type": "markdown",
   "metadata": {
    "pycharm": {
     "name": "#%% md\n"
    }
   },
   "source": [
    "## 4. Performance Comparison\n",
    "---\n",
    "Use the scores list from each algorithm to plot the 10 episode moving average."
   ]
  },
  {
   "cell_type": "code",
   "execution_count": null,
   "metadata": {
    "pycharm": {
     "name": "#%%\n"
    }
   },
   "outputs": [],
   "source": [
    "avg_sarsa = np.convolve(np.array(scores_sarsa), np.ones(10), mode=\"valid\")\n",
    "avg_sarsamax = np.convolve(np.array(scores_sarsamax), np.ones(10), mode=\"valid\")\n",
    "avg_exp_sarsa = np.convolve(np.array(scores_exp_sarsa), np.ones(10), mode=\"valid\")\n",
    "plt.plot(np.arange(len(avg_sarsa)), avg_sarsa, label=\"SARSA\")\n",
    "plt.plot(np.arange(len(avg_sarsamax)), avg_sarsamax, label=\"Q-Learning\")\n",
    "plt.plot(np.arange(len(avg_exp_sarsa)), avg_exp_sarsa, label=\"Expected SARSA\")\n",
    "plt.xlabel(\"Episode\")\n",
    "plt.ylabel(\"Score\")\n",
    "plt.legend()\n",
    "plt.show()"
   ]
  },
  {
   "cell_type": "code",
   "execution_count": null,
   "metadata": {
    "pycharm": {
     "name": "#%%\n"
    }
   },
   "outputs": [],
   "source": []
  }
 ],
 "metadata": {
  "kernelspec": {
   "display_name": "Python 3 (ipykernel)",
   "language": "python",
   "name": "python3"
  },
  "language_info": {
   "codemirror_mode": {
    "name": "ipython",
    "version": 3
   },
   "file_extension": ".py",
   "mimetype": "text/x-python",
   "name": "python",
   "nbconvert_exporter": "python",
   "pygments_lexer": "ipython3",
   "version": "3.8.10"
  }
 },
 "nbformat": 4,
 "nbformat_minor": 1
}
